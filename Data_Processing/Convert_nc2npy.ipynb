{
 "cells": [
  {
   "cell_type": "code",
   "execution_count": 1,
   "id": "24e50902",
   "metadata": {},
   "outputs": [],
   "source": [
    "import numpy as np\n",
    "import matplotlib.pyplot as plt\n",
    "\n",
    "from netCDF4 import Dataset"
   ]
  },
  {
   "cell_type": "code",
   "execution_count": 2,
   "id": "ad33bcf4",
   "metadata": {},
   "outputs": [],
   "source": [
    "element_list = [\"qtot\", \"evap\"]\n",
    "models_list  = [\"vic\", \"clm40\", \"dbh\", \"h08\", \"lpjml\", \"pcr_globwb\"]\n",
    "for e in range(len(element_list)):\n",
    "    element = element_list[e]\n",
    "    for m in range(len(models_list)):\n",
    "        model = models_list[m]\n",
    "        filepath = f\"../../Data/ISIMIP2a_outputs/{model}_{element}_1971_2010.nc\"\n",
    "        nc_f = Dataset(filepath, mode='r')\n",
    "        data = np.swapaxes(nc_f.variables[element][:].data, 1, 2)\n",
    "        nc_f.close()\n",
    "        np.save(f\"../../Data/ISIMIP2a_outputs/{model}_{element}_1971_2010.npy\", data.astype(np.float16))"
   ]
  },
  {
   "cell_type": "code",
   "execution_count": 19,
   "id": "4ee00304",
   "metadata": {},
   "outputs": [],
   "source": [
    "filepath = f\"../../Data/forcing/pr_gswp3_1971_2010.nc\"\n",
    "nc_f = Dataset(filepath, mode='r')\n",
    "lon = nc_f.variables[\"longitude\"][:].data\n",
    "lat = nc_f.variables[\"latitude\"][:].data\n",
    "nc_f.close()\n",
    "np.save(f\"../../Data/forcing/lon.npy\", lon.astype(np.float16))\n",
    "np.save(f\"../../Data/forcing/lat.npy\", lat.astype(np.float16))"
   ]
  },
  {
   "cell_type": "code",
   "execution_count": 11,
   "id": "cc111996",
   "metadata": {},
   "outputs": [],
   "source": [
    "element_list = [\"pr\", \"tas\", \"pet\"]\n",
    "models_list  = [\"cru\", \"gswp3\"]\n",
    "time_list    = [\"1901_2022\", \"1971_2010\"]\n",
    "\n",
    "for e in range(len(element_list)):\n",
    "    element = element_list[e]\n",
    "    for m in range(len(models_list)):\n",
    "        model = models_list[m]\n",
    "        time  = time_list[m]\n",
    "        filepath = f\"../../Data/forcing/{element}_{model}_{time}.nc\"\n",
    "        nc_f = Dataset(filepath, mode='r')\n",
    "        data = np.swapaxes(nc_f.variables[element][:].data, 1, 2)\n",
    "        nc_f.close()\n",
    "        np.save(f\"../../Data/forcing/{element}_{model}_{time}.npy\", data.astype(np.float16))"
   ]
  },
  {
   "cell_type": "code",
   "execution_count": 20,
   "id": "64a51259",
   "metadata": {},
   "outputs": [],
   "source": [
    "filepath = f\"../../Data/ISIMIP2a_outputs/vic_qtot_1971_2010.nc\"\n",
    "nc_f = Dataset(filepath, mode='r')\n",
    "lon = nc_f.variables[\"longitude\"][:].data\n",
    "lat = nc_f.variables[\"latitude\"][:].data\n",
    "nc_f.close()\n",
    "np.save(f\"../../Data/ISIMIP2a_outputs/lon.npy\", lon.astype(np.float16))\n",
    "np.save(f\"../../Data/ISIMIP2a_outputs/lat.npy\", lat.astype(np.float16))"
   ]
  },
  {
   "cell_type": "code",
   "execution_count": 5,
   "id": "5b368779",
   "metadata": {},
   "outputs": [
    {
     "name": "stderr",
     "output_type": "stream",
     "text": [
      "d:\\PythonEnv\\mytf\\lib\\site-packages\\numpy\\_core\\fromnumeric.py:57: RuntimeWarning: overflow encountered in multiply\n",
      "  return bound(*args, **kwds)\n"
     ]
    }
   ],
   "source": [
    "filepath = f\"../../Data/GRUN/GRUN_1901_2014.nc\"\n",
    "nc_f = Dataset(filepath, mode='r')\n",
    "data = np.swapaxes(nc_f.variables[\"Runoff\"][:].data, 1, 2)\n",
    "nc_f.close()\n",
    "np.save(f\"../../Data/GRUN/GRUN_1901_2014.npy\", np.round(data.astype(np.float16), 2))"
   ]
  }
 ],
 "metadata": {
  "kernelspec": {
   "display_name": "mytf",
   "language": "python",
   "name": "python3"
  },
  "language_info": {
   "codemirror_mode": {
    "name": "ipython",
    "version": 3
   },
   "file_extension": ".py",
   "mimetype": "text/x-python",
   "name": "python",
   "nbconvert_exporter": "python",
   "pygments_lexer": "ipython3",
   "version": "3.10.16"
  }
 },
 "nbformat": 4,
 "nbformat_minor": 5
}
